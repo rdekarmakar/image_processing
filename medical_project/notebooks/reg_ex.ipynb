{
 "cells": [
  {
   "cell_type": "code",
   "execution_count": 2,
   "id": "9ddabd33",
   "metadata": {},
   "outputs": [],
   "source": [
    "import re"
   ]
  },
  {
   "cell_type": "code",
   "execution_count": 6,
   "id": "0fe1e2be",
   "metadata": {},
   "outputs": [
    {
     "name": "stdout",
     "output_type": "stream",
     "text": [
      "['7321119999']\n"
     ]
    }
   ],
   "source": [
    "text = \"Patient's phone number is 7321119999.Bill amount for doctor visit is 1520$\"\n",
    "\n",
    "pattern = '\\d{10}'\n",
    "\n",
    "match = re.findall(pattern,text)\n",
    "print(match)"
   ]
  },
  {
   "cell_type": "code",
   "execution_count": 11,
   "id": "0399d9d3",
   "metadata": {},
   "outputs": [
    {
     "data": {
      "text/plain": [
       "<re.Match object; span=(26, 74), match='7321119999.Bill amount for doctor visit is 1520$'>"
      ]
     },
     "execution_count": 11,
     "metadata": {},
     "output_type": "execute_result"
    }
   ],
   "source": [
    "text = \"Patient's phone number is 7321119999.Bill amount for doctor visit is 1520$\"\n",
    "\n",
    "pattern = '(\\d{10})\\D+(\\d+)\\$'\n",
    "\n",
    "match = re.search(pattern,text)\n",
    "match"
   ]
  },
  {
   "cell_type": "code",
   "execution_count": 16,
   "id": "9b2f5380",
   "metadata": {},
   "outputs": [
    {
     "data": {
      "text/plain": [
       "('7321119999', '1520')"
      ]
     },
     "execution_count": 16,
     "metadata": {},
     "output_type": "execute_result"
    }
   ],
   "source": [
    "match.groups()"
   ]
  },
  {
   "cell_type": "code",
   "execution_count": 13,
   "id": "db3da787",
   "metadata": {},
   "outputs": [],
   "source": [
    "ph_no,bill_amt = match.groups()"
   ]
  },
  {
   "cell_type": "code",
   "execution_count": 14,
   "id": "350745b8",
   "metadata": {},
   "outputs": [
    {
     "data": {
      "text/plain": [
       "'7321119999'"
      ]
     },
     "execution_count": 14,
     "metadata": {},
     "output_type": "execute_result"
    }
   ],
   "source": [
    "ph_no"
   ]
  },
  {
   "cell_type": "code",
   "execution_count": null,
   "id": "005da87d",
   "metadata": {},
   "outputs": [],
   "source": []
  }
 ],
 "metadata": {
  "kernelspec": {
   "display_name": "Python 3 (ipykernel)",
   "language": "python",
   "name": "python3"
  },
  "language_info": {
   "codemirror_mode": {
    "name": "ipython",
    "version": 3
   },
   "file_extension": ".py",
   "mimetype": "text/x-python",
   "name": "python",
   "nbconvert_exporter": "python",
   "pygments_lexer": "ipython3",
   "version": "3.8.10"
  }
 },
 "nbformat": 4,
 "nbformat_minor": 5
}
